{
 "cells": [
  {
   "cell_type": "markdown",
   "metadata": {},
   "source": [
    "### 模型训练"
   ]
  },
  {
   "cell_type": "markdown",
   "metadata": {},
   "source": [
    "#### 工业用地"
   ]
  },
  {
   "cell_type": "code",
   "execution_count": 12,
   "metadata": {},
   "outputs": [
    {
     "name": "stdout",
     "output_type": "stream",
     "text": [
      "FNP preptool has not been run on this executable\n",
      "+-------------------------------------+--------------------+--------------------+--------------------+--------------------+--------------------+--------------------+--------------------+\n",
      "| Model                               | R^2                | Adj R^2            | MAE                | MSE                | RMSE               | %MAE               | %RMSE              |\n",
      "+-------------------------------------+--------------------+--------------------+--------------------+--------------------+--------------------+--------------------+--------------------+\n",
      "| ExtraTreesRegressor                 | 0.8949             | 1.0068             | 6.6976             | 496.2917           | 22.2776            | 1.70               | 5.65               |\n",
      "+-------------------------------------+--------------------+--------------------+--------------------+--------------------+--------------------+--------------------+--------------------+\n",
      "                  模型名称       R^2       MAE  ...       RMSE      %MAE     %RMSE\n",
      "0  ExtraTreesRegressor  0.894942  6.697586  ...  22.277606  1.697666  5.646801\n",
      "\n",
      "[1 rows x 7 columns]\n",
      "多个单机器模型训练评估完成\n"
     ]
    }
   ],
   "source": [
    "!python train.py --data_path \"特征工程处理csv\\工业用地_修正_处理后.csv\" \\\n",
    "                 --model_save_path \"./model/建设用地/单模型/工业用地\" \\\n",
    "                 --comparison_save_path  ./模型评估/建设用地/单模型/工业用地模型评估.csv \\\n",
    "                 --target \"Y\" \\\n",
    "                 --test_size 0.2 \\\n",
    "                 --random_state 45\n"
   ]
  },
  {
   "cell_type": "markdown",
   "metadata": {},
   "source": [
    "#### 商业用地"
   ]
  },
  {
   "cell_type": "code",
   "execution_count": 13,
   "metadata": {},
   "outputs": [
    {
     "name": "stdout",
     "output_type": "stream",
     "text": [
      "^C\n"
     ]
    },
    {
     "name": "stderr",
     "output_type": "stream",
     "text": [
      "Traceback (most recent call last):\n",
      "  File \"c:\\Users\\黄国斌\\Desktop\\模块化\\train.py\", line 126, in <module>\n",
      "    train_and_evaluate_models(\n",
      "  File \"c:\\Users\\黄国斌\\Desktop\\模块化\\tools\\ml\\train_and_evaluate_models.py\", line 107, in train_and_evaluate_models\n",
      "    data = pd.read_csv(data_path, encoding=\"utf-8\")\n",
      "  File \"d:\\miniconda3\\envs\\arcgispro-py3\\lib\\site-packages\\pandas\\io\\parsers\\readers.py\", line 1026, in read_csv\n",
      "    return _read(filepath_or_buffer, kwds)\n",
      "  File \"d:\\miniconda3\\envs\\arcgispro-py3\\lib\\site-packages\\pandas\\io\\parsers\\readers.py\", line 620, in _read\n",
      "    parser = TextFileReader(filepath_or_buffer, **kwds)\n",
      "  File \"d:\\miniconda3\\envs\\arcgispro-py3\\lib\\site-packages\\pandas\\io\\parsers\\readers.py\", line 1620, in __init__\n",
      "    self._engine = self._make_engine(f, self.engine)\n",
      "  File \"d:\\miniconda3\\envs\\arcgispro-py3\\lib\\site-packages\\pandas\\io\\parsers\\readers.py\", line 1880, in _make_engine\n",
      "    self.handles = get_handle(\n",
      "  File \"d:\\miniconda3\\envs\\arcgispro-py3\\lib\\site-packages\\pandas\\io\\common.py\", line 882, in get_handle\n",
      "    handle = open(handle, ioargs.mode)\n",
      "FileNotFoundError: [Errno 2] No such file or directory: '特征工程处理csv\\\\商业用地.csv'\n"
     ]
    },
    {
     "name": "stdout",
     "output_type": "stream",
     "text": [
      "FNP preptool has not been run on this executable\n"
     ]
    }
   ],
   "source": [
    "!python train.py --data_path \"特征工程处理csv\\商业用地.csv\" \\\n",
    "                 --model_save_path \"./model/建设用地/单模型/商业用地\" \\\n",
    "                 --comparison_save_path  ./模型评估/建设用地/单模型/商业用地模型评估.csv \\\n",
    "                 --target \"Y\" \\\n",
    "                 --test_size 0.2 \\\n",
    "                 --random_state 45"
   ]
  },
  {
   "cell_type": "markdown",
   "metadata": {},
   "source": [
    "#### 住宅用地"
   ]
  },
  {
   "cell_type": "code",
   "execution_count": 25,
   "metadata": {},
   "outputs": [
    {
     "name": "stdout",
     "output_type": "stream",
     "text": [
      "FNP preptool has not been run on this executable\n",
      "数据导入成功\n",
      "原始数据的前几行：\n",
      "       Y  pointID  距五金、机电、仪器仪表的距离  ...  住、宿POI核密度  木材加工核密度  轨道S1号线核密度\n",
      "0  520.0        0      459.199862  ...   0.000000      0.0        0.0\n",
      "1  599.0        1       84.560410  ...   2.561046      0.0        0.0\n",
      "2  710.0        2       39.305226  ...   3.226699      0.0        0.0\n",
      "3  750.0        3        8.758938  ...   3.226699      0.0        0.0\n",
      "4  607.0        4       70.498438  ...   3.480907      0.0        0.0\n",
      "\n",
      "[5 rows x 464 columns]\n",
      "特征数据的前几行：\n",
      "   距五金、机电、仪器仪表的距离   距行业性团体的距离   距汽车销售及服务的距离  ...  住、宿POI核密度  木材加工核密度  轨道S1号线核密度\n",
      "0      459.199862  592.426227  10000.816536  ...   0.000000      0.0        0.0\n",
      "1       84.560410  213.587003   9687.967974  ...   2.561046      0.0        0.0\n",
      "2       39.305226  142.939552   9635.439129  ...   3.226699      0.0        0.0\n",
      "3        8.758938  139.926891   9613.869399  ...   3.226699      0.0        0.0\n",
      "4       70.498438   79.162064   9489.238523  ...   3.480907      0.0        0.0\n",
      "\n",
      "[5 rows x 462 columns]\n",
      "目标数据的前几行：\n",
      "0    520.0\n",
      "1    599.0\n",
      "2    710.0\n",
      "3    750.0\n",
      "4    607.0\n",
      "Name: Y, dtype: float64\n",
      "标准化后的特征数据的前几行：\n",
      "         距五金、机电、仪器仪表的距离  距行业性团体的距离  距汽车销售及服务的距离  ...  住、宿POI核密度   木材加工核密度  轨道S1号线核密度\n",
      "pointID                                          ...                                \n",
      "0             -0.297488  -0.489096     1.870108  ...  -0.999914 -0.295288  -0.148376\n",
      "1             -0.384090  -0.540085     1.795598  ...  -0.956665 -0.295288  -0.148376\n",
      "2             -0.394552  -0.549593     1.783087  ...  -0.945424 -0.295288  -0.148376\n",
      "3             -0.401613  -0.549999     1.777950  ...  -0.945424 -0.295288  -0.148376\n",
      "4             -0.387341  -0.558177     1.748267  ...  -0.941131 -0.295288  -0.148376\n",
      "\n",
      "[5 rows x 462 columns]\n",
      "归一化后的特征数据的前几行：\n",
      "         距五金、机电、仪器仪表的距离  距行业性团体的距离  距汽车销售及服务的距离  ...  住、宿POI核密度  木材加工核密度  轨道S1号线核密度\n",
      "pointID                                          ...                               \n",
      "0              0.020121   0.021172     0.564920  ...   0.000000      0.0        0.0\n",
      "1              0.003573   0.007607     0.547245  ...   0.004941      0.0        0.0\n",
      "2              0.001574   0.005077     0.544277  ...   0.006225      0.0        0.0\n",
      "3              0.000224   0.004969     0.543058  ...   0.006225      0.0        0.0\n",
      "4              0.002952   0.002793     0.536017  ...   0.006716      0.0        0.0\n",
      "\n",
      "[5 rows x 462 columns]\n",
      "./模型评估/建设用地/单模型\n",
      "+-------------------------------------+--------------------+--------------------+--------------------+--------------------+--------------------+--------------------+--------------------+\n",
      "| Model                               | R^2                | Adj R^2            | MAE                | MSE                | RMSE               | %MAE               | %RMSE              |\n",
      "+-------------------------------------+--------------------+--------------------+--------------------+--------------------+--------------------+--------------------+--------------------+\n",
      "| Ridge                               | 0.9730             | 1.1149             | 308.0680           | 181483.1400        | 426.0084           | 6.62               | 9.16               |\n",
      "+-------------------------------------+--------------------+--------------------+--------------------+--------------------+--------------------+--------------------+--------------------+\n",
      "    模型名称       R^2         MAE           MSE       RMSE      %MAE     %RMSE\n",
      "0  Ridge  0.972958  308.067961  181483.13997  426.00838  6.622638  9.158042\n",
      "保存模型对比结果csv到: ./模型评估/建设用地/单模型/住宅用地模型评估.csv\n",
      "多个单机器模型训练评估完成\n"
     ]
    }
   ],
   "source": [
    "!python train.py --data_path \"特征工程处理csv\\住宅用地_修正_处理后.csv\" \\\n",
    "                 --model_save_path \"./model/建设用地/单模型/住宅用地\" \\\n",
    "                 --comparison_save_path  ./模型评估/建设用地/单模型/住宅用地模型评估.csv \\\n",
    "                 --target \"Y\" \\\n",
    "                 --test_size 0.2 \\\n",
    "                 --random_state 45\n"
   ]
  },
  {
   "cell_type": "markdown",
   "metadata": {},
   "source": [
    "#### 公服用地"
   ]
  },
  {
   "cell_type": "code",
   "execution_count": null,
   "metadata": {},
   "outputs": [],
   "source": [
    "!python train.py --data_path \"特征工程处理csv\\公服用地.csv\" \\\n",
    "                 --model_save_path \"./model/建设用地/单模型/公服用地\" \\\n",
    "                 --comparison_save_path  ./模型评估/建设用地/单模型/公服用地模型评估.csv \\\n",
    "                 --target \"Y\" \\\n",
    "                 --test_size 0.2 \\\n",
    "                 --random_state 45"
   ]
  },
  {
   "cell_type": "markdown",
   "metadata": {},
   "source": [
    "#### 草地"
   ]
  },
  {
   "cell_type": "code",
   "execution_count": null,
   "metadata": {},
   "outputs": [],
   "source": [
    "!python train.py --data_path \"导出修改列名\\草地_修改后.csv\" \\\n",
    "                 --model_save_path \"./model/农用地/单模型/草地\" \\\n",
    "                 --comparison_save_path  ./模型评估/农用地/单模型/草地模型评估.csv \\\n",
    "                 --target \"Y\" \\\n",
    "                 --test_size 0.2 \\\n",
    "                 --random_state 45"
   ]
  },
  {
   "cell_type": "markdown",
   "metadata": {},
   "source": [
    "#### 林地"
   ]
  },
  {
   "cell_type": "code",
   "execution_count": null,
   "metadata": {},
   "outputs": [],
   "source": [
    "!python train.py --data_path \"导出修改列名\\林地_修改后.csv\" \\\n",
    "                 --model_save_path \"./model/农用地/单模型/林地\" \\\n",
    "                 --comparison_save_path  ./模型评估/农用地/单模型/林地模型评估.csv \\\n",
    "                 --target \"Y\" \\\n",
    "                 --test_size 0.2 \\\n",
    "                 --random_state 45"
   ]
  },
  {
   "cell_type": "code",
   "execution_count": null,
   "metadata": {},
   "outputs": [],
   "source": [
    "#导⼊相关包\n",
    "import warnings\n",
    "warnings.filterwarnings('ignore')\n",
    "import numpy as np\n",
    "import pandas as pd\n",
    "# 拆分预测数据和训练数据\n",
    "from sklearn.model_selection import train_test_split\n",
    "#缺失值处理\n",
    "from sklearn.impute import SimpleImputer\n",
    "#聚类\n",
    "from sklearn.manifold import TSNE\n",
    "from sklearn.cluster import KMeans\n",
    "from sklearn.decomposition import PCA\n",
    "from sklearn.preprocessing import StandardScaler\n",
    "# 模型\n",
    "from sklearn.linear_model import LinearRegression\n",
    "from sklearn import svm\n",
    "from sklearn.gaussian_process import GaussianProcessRegressor\n",
    "from sklearn.neural_network import MLPRegressor\n",
    "from sklearn.ensemble import RandomForestRegressor\n",
    "from sklearn.ensemble import AdaBoostRegressor\n",
    "from sklearn.ensemble import GradientBoostingRegressor\n",
    "from xgboost import XGBRegressor\n",
    "import lightgbm as lgb\n",
    "from sklearn.ensemble import ExtraTreesRegressor\n",
    "from sklearn.ensemble import BaggingRegressor\n",
    "from lightgbm import LGBMRegressor\n",
    "from mlxtend.regressor import StackingCVRegressor\n",
    "from sklearn.neighbors import KNeighborsRegressor\n",
    "from sklearn.linear_model import LogisticRegression\n",
    "#其他模型\n",
    "from sklearn.linear_model import LinearRegression\n",
    "from sklearn import svm\n",
    "from sklearn.gaussian_process import GaussianProcessRegressor\n",
    "from sklearn.ensemble import RandomForestRegressor\n",
    "from sklearn.ensemble import AdaBoostRegressor\n",
    "from sklearn.ensemble import GradientBoostingRegressor\n",
    "from xgboost import XGBRegressor\n",
    "import lightgbm as lgb\n",
    "from sklearn.ensemble import ExtraTreesRegressor\n",
    "from sklearn.ensemble import BaggingRegressor\n",
    "from lightgbm import LGBMRegressor\n",
    "from mlxtend.regressor import StackingCVRegressor\n",
    "from sklearn.linear_model import LinearRegression, Ridge, Lasso, ElasticNet, BayesianRidge, Lars, LassoLars, PassiveAggressiveRegressor, TheilSenRegressor, HuberRegressor, OrthogonalMatchingPursuit, TweedieRegressor, PoissonRegressor, GammaRegressor\n",
    "from sklearn.ensemble import RandomForestRegressor, GradientBoostingRegressor, AdaBoostRegressor, BaggingRegressor, HistGradientBoostingRegressor\n",
    "from sklearn.svm import LinearSVR, SVR, NuSVR\n",
    "from sklearn.kernel_ridge import KernelRidge\n",
    "from sklearn.naive_bayes import GaussianNB, MultinomialNB, BernoulliNB\n",
    "from sklearn.tree import DecisionTreeRegressor, ExtraTreeRegressor\n",
    "from sklearn.isotonic import IsotonicRegression\n",
    "from xgboost import XGBRegressor\n",
    "from lightgbm import LGBMRegressor\n",
    "from sklearn.mixture import BayesianGaussianMixture\n",
    "#随机寻参\n",
    "from sklearn.model_selection import RandomizedSearchCV\n",
    "from scipy.stats import randint as sp_randint\n",
    "from scipy.stats import uniform\n",
    "#交叉验证\n",
    "from sklearn.model_selection import KFold \n",
    "from sklearn.model_selection import StratifiedKFold\n",
    "from sklearn.model_selection import ShuffleSplit\n",
    "#模型评估\n",
    "from sklearn import metrics\n",
    "from sklearn.naive_bayes import GaussianNB\n",
    "from sklearn.svm import SVC\n",
    "from sklearn.datasets import load_digits\n",
    "from sklearn.model_selection import learning_curve\n",
    "from sklearn.model_selection import ShuffleSplit\n",
    "# 绘图\n",
    "import matplotlib.pyplot as plt\n",
    "plt.rcParams['font.sans-serif'] = ['SimHei']  # 用来正常显示中文标签\n",
    "plt.rcParams['axes.unicode_minus'] = False  # 用来正常显示负号\n",
    "\n",
    "import seaborn as sns\n",
    "sns.set(style='white',context='notebook',palette='muted',font='SimHei')"
   ]
  },
  {
   "cell_type": "code",
   "execution_count": null,
   "metadata": {},
   "outputs": [],
   "source": [
    "from tools.ml import train_light\n",
    "\n",
    "# 示例用法\n",
    "regression_models = {\n",
    "    \"LinearRegression\": LinearRegression(),\n",
    "    \"Ridge\": Ridge(random_state=45),\n",
    "    \"Lasso\": Lasso(random_state=45),\n",
    "    \"ElasticNet\": ElasticNet(random_state=45),\n",
    "    \"BayesianRidge\": BayesianRidge(),\n",
    "    \"LassoLars\": LassoLars(random_state=45),\n",
    "    \"PassiveAggressiveRegressor\": PassiveAggressiveRegressor(random_state=45),\n",
    "    \"TheilSenRegressor\": TheilSenRegressor(random_state=45),\n",
    "    \"HuberRegressor\": HuberRegressor(),\n",
    "    \"OrthogonalMatchingPursuit\": OrthogonalMatchingPursuit(),\n",
    "    \"TweedieRegressor\": TweedieRegressor(),\n",
    "    \"PoissonRegressor\": PoissonRegressor(),\n",
    "    \"GammaRegressor\": GammaRegressor(),\n",
    "    \"RandomForestRegressor\": RandomForestRegressor(random_state=45),\n",
    "    \"ExtraTreesRegressor\": ExtraTreesRegressor(random_state=45),\n",
    "    \"GradientBoostingRegressor\": GradientBoostingRegressor(random_state=45),\n",
    "    \"XGBRegressor\": XGBRegressor(),\n",
    "    \"lgb.LGBMRegressor\": lgb.LGBMRegressor(random_state=45),\n",
    "    \"AdaBoostRegressor\": AdaBoostRegressor(random_state=45),\n",
    "    \"HistGradientBoostingRegressor\": HistGradientBoostingRegressor(random_state=45),\n",
    "    \"LinearSVR\": LinearSVR(random_state=45),\n",
    "    \"SVR\": SVR(),\n",
    "    \"NuSVR\": NuSVR(),\n",
    "    \"DecisionTreeRegressor\": DecisionTreeRegressor(random_state=45),\n",
    "    \"ExtraTreeRegressor\": ExtraTreeRegressor(random_state=45),\n",
    "    \"KNeighborsRegressor\": KNeighborsRegressor(),\n",
    "    \"GaussianProcessRegressor\": GaussianProcessRegressor(random_state=45),\n",
    "}\n",
    "\n",
    "train_and_evaluate_models(\n",
    "    data_path='导出修改列名\\林地_修改后.csv',\n",
    "    model_save_path='models/',\n",
    "    comparison_save_path='comparison_results/comparison.csv',\n",
    "    target='Y',\n",
    "    regression_models=regression_models\n",
    ")"
   ]
  },
  {
   "cell_type": "markdown",
   "metadata": {},
   "source": [
    "#### 园地"
   ]
  },
  {
   "cell_type": "code",
   "execution_count": null,
   "metadata": {},
   "outputs": [],
   "source": [
    "!python train.py --data_path \"导出修改列名\\园地_修改后.csv\" \\\n",
    "                 --model_save_path \"./model/农用地/单模型/园地\" \\\n",
    "                 --comparison_save_path  ./模型评估/农用地/单模型/园地模型评估.csv \\\n",
    "                 --target \"Y\" \\\n",
    "                 --test_size 0.2 \\\n",
    "                 --random_state 2024"
   ]
  },
  {
   "cell_type": "markdown",
   "metadata": {},
   "source": [
    "#### 耕地"
   ]
  },
  {
   "cell_type": "code",
   "execution_count": null,
   "metadata": {},
   "outputs": [],
   "source": [
    "!python train.py --data_path \"导出修改列名\\耕地_修改后.csv\" \\\n",
    "                 --model_save_path \"./model/农用地/单模型/耕地\" \\\n",
    "                 --comparison_save_path  ./模型评估/农用地/单模型/耕地模型评估.csv \\\n",
    "                 --target \"Y\" \\\n",
    "                 --test_size 0.2 \\\n",
    "                 --random_state 2024"
   ]
  },
  {
   "cell_type": "markdown",
   "metadata": {},
   "source": [
    "#### 坑塘水面"
   ]
  },
  {
   "cell_type": "code",
   "execution_count": null,
   "metadata": {},
   "outputs": [],
   "source": [
    "!python train.py --data_path \"导出修改列名\\坑塘水面_修改后.csv\" \\\n",
    "                 --model_save_path \"./model/农用地/单模型/坑塘水面\" \\\n",
    "                 --comparison_save_path  ./模型评估/农用地/单模型/坑塘水面模型评估.csv \\\n",
    "                 --target \"Y\" \\\n",
    "                 --test_size 0.2 \\\n",
    "                 --random_state 2024"
   ]
  },
  {
   "cell_type": "markdown",
   "metadata": {},
   "source": [
    "#### 设施农用地"
   ]
  },
  {
   "cell_type": "code",
   "execution_count": null,
   "metadata": {},
   "outputs": [],
   "source": [
    "!python train.py --data_path \"特征工程处理csv\\设施农用地.csv\" \\\n",
    "                 --model_save_path \"./model/农用地/单模型/设施农用地\" \\\n",
    "                 --comparison_save_path  ./模型评估/农用地/单模型/设施农用地模型评估.csv \\\n",
    "                 --target \"Y\" \\\n",
    "                 --test_size 0.2 \\\n",
    "                 --random_state 45"
   ]
  },
  {
   "cell_type": "markdown",
   "metadata": {},
   "source": [
    "### Bagging模型训练"
   ]
  },
  {
   "cell_type": "markdown",
   "metadata": {},
   "source": [
    "#### 工业用地"
   ]
  },
  {
   "cell_type": "code",
   "execution_count": null,
   "metadata": {},
   "outputs": [],
   "source": [
    "!python train_bagging.py --data_path \"特征工程处理csv\\工业用地.csv\" \\\n",
    "                                             --model_save_path \"./model/建设用地/Bagging模型/工业用地\" \\\n",
    "                                             --comparison_save_path \"./模型评估/建设用地/Bagging模型/工业用地Bagging模型评估.csv\" \\\n",
    "                                             --target \"Y\" \\\n",
    "                                             --n_estimators 10 \\\n",
    "                                             --test_size 0.2 \\\n",
    "                                             --random_state 45"
   ]
  },
  {
   "cell_type": "markdown",
   "metadata": {},
   "source": [
    "#### 商业用地"
   ]
  },
  {
   "cell_type": "code",
   "execution_count": null,
   "metadata": {},
   "outputs": [],
   "source": [
    "!python train_bagging.py --data_path \"特征工程处理csv\\商业用地.csv\" \\\n",
    "                                             --model_save_path \"./model/建设用地/Bagging模型/商业用地\" \\\n",
    "                                             --comparison_save_path \"./模型评估/建设用地/Bagging模型/商业用地Bagging模型评估.csv\" \\\n",
    "                                             --target \"Y\" \\\n",
    "                                             --n_estimators 10 \\\n",
    "                                             --test_size 0.2 \\\n",
    "                                             --random_state 45"
   ]
  },
  {
   "cell_type": "markdown",
   "metadata": {},
   "source": [
    "#### 住宅用地"
   ]
  },
  {
   "cell_type": "code",
   "execution_count": null,
   "metadata": {},
   "outputs": [],
   "source": [
    "!python train_bagging.py --data_path \"导出修改列名\\住宅用地_修改后.csv\" \\\n",
    "                                             --model_save_path \"./model/建设用地/Bagging模型/住宅用地\" \\\n",
    "                                             --comparison_save_path \"./模型评估/建设用地/Bagging模型/住宅用地Bagging模型评估.csv\" \\\n",
    "                                             --target \"Y\" \\\n",
    "                                                  --n_estimators 10 \\\n",
    "                                             --test_size 0.2 \\\n",
    "                                             --random_state 45"
   ]
  },
  {
   "cell_type": "markdown",
   "metadata": {},
   "source": [
    "#### 公服用地"
   ]
  },
  {
   "cell_type": "code",
   "execution_count": null,
   "metadata": {},
   "outputs": [],
   "source": [
    "!python train_bagging.py --data_path \"导出修改列名\\公服用地_修改后.csv\" \\\n",
    "                                             --model_save_path \"./model/建设用地/Bagging模型/公服用地\" \\\n",
    "                                             --comparison_save_path \"./模型评估/建设用地/Bagging模型/公服用地Bagging模型评估.csv\" \\\n",
    "                                             --target \"Y\" \\\n",
    "                                            --n_estimators 10 \\\n",
    "                                             --test_size 0.2 \\\n",
    "                                             --random_state 45"
   ]
  },
  {
   "cell_type": "markdown",
   "metadata": {},
   "source": [
    "#### 草地"
   ]
  },
  {
   "cell_type": "code",
   "execution_count": null,
   "metadata": {},
   "outputs": [],
   "source": [
    "!python train_bagging.py --data_path \"导出修改列名\\草地_修改后.csv\" \\\n",
    "                                             --model_save_path \"./model/农用地/Bagging模型/草地\" \\\n",
    "                                             --comparison_save_path \"./模型评估/农用地/Bagging模型/草地Bagging模型评估.csv\" \\\n",
    "                                             --target \"Y\" \\\n",
    "                                                 --n_estimators 10 \\\n",
    "                                             --test_size 0.2 \\\n",
    "                                             --random_state 45"
   ]
  },
  {
   "cell_type": "markdown",
   "metadata": {},
   "source": [
    "#### 林地"
   ]
  },
  {
   "cell_type": "code",
   "execution_count": null,
   "metadata": {},
   "outputs": [],
   "source": [
    "!python train_bagging.py --data_path \"特征工程处理csv\\林地.csv\" \\\n",
    "                                             --model_save_path \"./model/农用地/Bagging模型/林地\" \\\n",
    "                                             --comparison_save_path \"./模型评估/农用地/Bagging模型/林地Bagging模型评估.csv\" \\\n",
    "                                             --target \"Y\" \\\n",
    "                                                     --n_estimators 10 \\\n",
    "                                             --test_size 0.2 \\\n",
    "                                             --random_state 45"
   ]
  },
  {
   "cell_type": "markdown",
   "metadata": {},
   "source": [
    "#### 园地"
   ]
  },
  {
   "cell_type": "code",
   "execution_count": null,
   "metadata": {},
   "outputs": [],
   "source": [
    "!python train_bagging.py --data_path \"导出修改列名\\园地_修改后.csv\" \\\n",
    "                                             --model_save_path \"./model/农用地/Bagging模型/园地\" \\\n",
    "                                             --comparison_save_path \"./模型评估/农用地/Bagging模型/园地Bagging模型评估.csv\" \\\n",
    "                                             --target \"Y\" \\\n",
    "                                                 --n_estimators 10 \\\n",
    "                                             --test_size 0.2 \\\n",
    "                                             --random_state 45"
   ]
  },
  {
   "cell_type": "markdown",
   "metadata": {},
   "source": [
    "#### 耕地"
   ]
  },
  {
   "cell_type": "code",
   "execution_count": null,
   "metadata": {},
   "outputs": [],
   "source": [
    "!python train_bagging.py --data_path \"datasets\\耕地特征处理后.csv\" \\\n",
    "                                             --model_save_path \"./model/农用地/Bagging模型/耕地\" \\\n",
    "                                             --comparison_save_path \"./模型评估/农用地/Bagging模型/耕地Bagging模型评估.csv\" \\\n",
    "                                             --target \"Y\" \\\n",
    "                                                 --n_estimators 10 \\\n",
    "                                             --test_size 0.2 \\\n",
    "                                             --random_state 45"
   ]
  },
  {
   "cell_type": "markdown",
   "metadata": {},
   "source": [
    "### 设施农用地"
   ]
  },
  {
   "cell_type": "code",
   "execution_count": null,
   "metadata": {},
   "outputs": [],
   "source": [
    "!python train_bagging.py --data_path \"特征工程处理csv\\设施农用地.csv\" \\\n",
    "                        --model_save_path \"./model/农用地/Bagging模型/设施农用地\" \\\n",
    "                        --comparison_save_path \"./模型评估/农用地/Bagging模型/设施农用地Bagging模型评估.csv\" \\\n",
    "                        --target \"Y\" \\\n",
    "                        --n_estimators 100 \\\n",
    "                        --test_size 0.2 \\\n",
    "                        --random_state 45"
   ]
  },
  {
   "cell_type": "markdown",
   "metadata": {},
   "source": [
    "### 坑塘水面"
   ]
  },
  {
   "cell_type": "code",
   "execution_count": null,
   "metadata": {},
   "outputs": [],
   "source": [
    "!python train_bagging.py --data_path \"特征工程处理csv\\坑塘水面.csv\" \\\n",
    "                        --model_save_path \"./model/农用地/Bagging模型/坑塘水面\" \\\n",
    "                        --comparison_save_path \"./模型评估/农用地/Bagging模型/坑塘水面Bagging模型评估.csv\" \\\n",
    "                        --target \"Y\" \\\n",
    "                        --n_estimators 50 \\\n",
    "                        --test_size 0.2 \\\n",
    "                        --random_state 45"
   ]
  },
  {
   "cell_type": "markdown",
   "metadata": {},
   "source": [
    "### Boosting模型训练"
   ]
  },
  {
   "cell_type": "markdown",
   "metadata": {},
   "source": [
    "#### 工业用地"
   ]
  },
  {
   "cell_type": "code",
   "execution_count": null,
   "metadata": {},
   "outputs": [],
   "source": [
    "\n",
    "\n",
    "!python train_boosting.py --data_path \"导出修改列名/工业用地_修改后.csv\" \\\n",
    "                          --model_save_path \"./model/建设用地/Boosting模型/工业用地\" \\\n",
    "                          --comparison_save_path \"./模型评估/建设用地/Boosting模型/工业用地Boosting模型评估.csv\" \\\n",
    "                          --target \"Y\" \\\n",
    "                          --test_size 0.2 \\\n",
    "                          --random_state 45"
   ]
  },
  {
   "cell_type": "markdown",
   "metadata": {},
   "source": [
    "#### 商业用地"
   ]
  },
  {
   "cell_type": "code",
   "execution_count": null,
   "metadata": {},
   "outputs": [],
   "source": [
    "!python train_boosting.py --data_path \"特征工程处理csv\\商业用地.csv\" \\\n",
    "                          --model_save_path \"./model/建设用地/Boosting模型/商业用地\" \\\n",
    "                          --comparison_save_path \"./模型评估/建设用地/Boosting模型/商业用地Boosting模型评估.csv\" \\\n",
    "                          --target \"Y\" \\\n",
    "                          --num 10 \\\n",
    "                          --test_size 0.2 \\\n",
    "                          --random_state 45\n"
   ]
  },
  {
   "cell_type": "markdown",
   "metadata": {},
   "source": [
    "#### 公服用地"
   ]
  },
  {
   "cell_type": "code",
   "execution_count": null,
   "metadata": {},
   "outputs": [],
   "source": [
    "!python train_boosting.py --data_path \"导出修改列名/公共用地_修改后.csv\" \\\n",
    "                          --model_save_path \"./model/建设用地/Boosting模型/公共用地\" \\\n",
    "                          --comparison_save_path \"./模型评估/建设用地/Boosting模型/公共用地Boosting模型评估.csv\" \\\n",
    "                          --target \"Y\" \\\n",
    "                          --test_size 0.2 \\\n",
    "                          --random_state 45"
   ]
  },
  {
   "cell_type": "markdown",
   "metadata": {},
   "source": [
    "#### 住宅用地"
   ]
  },
  {
   "cell_type": "code",
   "execution_count": null,
   "metadata": {},
   "outputs": [],
   "source": [
    "!python train_boosting.py --data_path \"导出修改列名/住宅用地_修改后.csv\" \\\n",
    "                          --model_save_path \"./model/建设用地/Boosting模型/住宅用地\" \\\n",
    "                          --comparison_save_path \"./模型评估/建设用地/Boosting模型/住宅用地Boosting模型评估.csv\" \\\n",
    "                          --target \"Y\" \\\n",
    "                          --test_size 0.2 \\\n",
    "                          --random_state 45"
   ]
  },
  {
   "cell_type": "markdown",
   "metadata": {},
   "source": [
    "#### 草地"
   ]
  },
  {
   "cell_type": "code",
   "execution_count": null,
   "metadata": {},
   "outputs": [],
   "source": [
    "!python train_boosting.py --data_path \"导出修改列名/草地_修改后.csv\" \\\n",
    "                          --model_save_path \"./model/农用地/Boosting模型/草地\" \\\n",
    "                          --comparison_save_path \"./模型评估/农用地/Boosting模型/草地Boosting模型评估.csv\" \\\n",
    "                          --target \"Y\" \\\n",
    "                          --test_size 0.2 \\\n",
    "                          --random_state 45"
   ]
  },
  {
   "cell_type": "markdown",
   "metadata": {},
   "source": [
    "#### 耕地"
   ]
  },
  {
   "cell_type": "code",
   "execution_count": null,
   "metadata": {},
   "outputs": [],
   "source": [
    "!python train_boosting.py --data_path \"导出修改列名/耕地_修改后.csv\" \\\n",
    "                          --model_save_path \"./model/农用地/Boosting模型/耕地\" \\\n",
    "                          --comparison_save_path \"./模型评估/农用地/Boosting模型/耕地Boosting模型评估.csv\" \\\n",
    "                          --target \"Y\" \\\n",
    "                          --test_size 0.2 \\\n",
    "                          --random_state 45"
   ]
  },
  {
   "cell_type": "markdown",
   "metadata": {},
   "source": [
    "#### 园地"
   ]
  },
  {
   "cell_type": "code",
   "execution_count": null,
   "metadata": {},
   "outputs": [],
   "source": [
    "!python train_boosting.py --data_path \"导出修改列名/园地_修改后.csv\" \\\n",
    "                          --model_save_path \"./model/农用地/Boosting模型/园地\" \\\n",
    "                          --comparison_save_path \"./模型评估/农用地/Boosting模型/园地Boosting模型评估.csv\" \\\n",
    "                          --target \"Y\" \\\n",
    "                          --test_size 0.2 \\\n",
    "                          --random_state 45"
   ]
  },
  {
   "cell_type": "markdown",
   "metadata": {},
   "source": [
    "#### 林地"
   ]
  },
  {
   "cell_type": "code",
   "execution_count": null,
   "metadata": {},
   "outputs": [],
   "source": [
    "!python train_boosting.py --data_path \"导出修改列名/林地_修改后.csv\" \\\n",
    "                          --model_save_path \"./model/农用地/Boosting模型/林地\" \\\n",
    "                          --comparison_save_path \"./模型评估/农用地/Boosting模型/林地Boosting模型评估.csv\" \\\n",
    "                          --target \"Y\" \\\n",
    "                          --test_size 0.2 \\\n",
    "                          --random_state 45\n"
   ]
  },
  {
   "cell_type": "markdown",
   "metadata": {},
   "source": [
    "#### 坑塘水面"
   ]
  },
  {
   "cell_type": "code",
   "execution_count": null,
   "metadata": {},
   "outputs": [],
   "source": [
    "!python train_boosting.py --data_path \"导出修改列名/坑塘水面_修改后.csv\" \\\n",
    "                          --model_save_path \"./model/农用地/Boosting模型/坑塘水面\" \\\n",
    "                          --comparison_save_path \"./模型评估/农用地/Boosting模型/坑塘水面Boosting模型评估.csv\" \\\n",
    "                          --target \"Y\" \\\n",
    "                          --test_size 0.2 \\\n",
    "                          --random_state 45"
   ]
  },
  {
   "cell_type": "markdown",
   "metadata": {},
   "source": [
    "#### 设施农用地"
   ]
  },
  {
   "cell_type": "code",
   "execution_count": null,
   "metadata": {},
   "outputs": [],
   "source": [
    "\n",
    "!python train_boosting.py --data_path \"特征工程处理csv\\设施农用地.csv\" \\\n",
    "                          --model_save_path \"./model/农用地/Boosting模型/设施农用地\" \\\n",
    "                          --comparison_save_path \"./模型评估/农用地/Boosting模型/设施农用地Boosting模型评估.csv\" \\\n",
    "                          --target \"Y\" \\\n",
    "                          --num 10 \\\n",
    "                          --test_size 0.2 \\\n",
    "                          --random_state 45"
   ]
  },
  {
   "cell_type": "markdown",
   "metadata": {},
   "source": [
    "### boosting"
   ]
  },
  {
   "cell_type": "code",
   "execution_count": null,
   "metadata": {},
   "outputs": [],
   "source": [
    "import os\n",
    "import joblib\n",
    "import pandas as pd\n",
    "import numpy as np\n",
    "from sklearn.model_selection import train_test_split\n",
    "from sklearn.ensemble import AdaBoostRegressor, GradientBoostingRegressor, HistGradientBoostingRegressor\n",
    "from sklearn import metrics\n",
    "import xgboost as xgb\n",
    "import lightgbm as lgb\n",
    "from tools.ml.bf_print import bf_print\n",
    "\n",
    "def train_and_evaluate_models_boosting(data_path, model_save_path, comparison_save_path, num, target, test_size, random_state):\n",
    "    # 初始化评估指标列表\n",
    "    models_name = []\n",
    "    RR = []\n",
    "    MAE = []\n",
    "    MSE = []\n",
    "    RMSE = []\n",
    "    MAE_B = []\n",
    "    RMSE_B = []\n",
    "\n",
    "    # 加载数据集\n",
    "    try:\n",
    "        train = pd.read_csv(data_path, encoding=\"utf-8\")\n",
    "        data = pd.read_csv(data_path, encoding=\"utf-8\")\n",
    "        print(\"成功使用 utf-8 编码读取数据。\")\n",
    "    except UnicodeDecodeError:\n",
    "        # 如果 utf-8 读取失败，则使用 gbk 编码\n",
    "        train = pd.read_csv(data_path, encoding=\"gbk\")\n",
    "        data = pd.read_csv(data_path, encoding=\"gbk\")\n",
    "        print(\"utf-8 读取失败，成功使用 gbk 编码读取数据。\")\n",
    "        \n",
    "    X = train.drop([target], axis=1)\n",
    "    y = train[target]\n",
    "\n",
    "    for column in X.columns:\n",
    "        mean = X[column].mean()\n",
    "        std = X[column].std()\n",
    "        X[column] = (X[column] - mean) / std\n",
    "\n",
    "    X.set_index(data['pointID'], inplace=True)\n",
    "    y.index = data['pointID']\n",
    "\n",
    "    X_train, X_test, y_train, y_test = train_test_split(X, y, test_size=test_size, random_state=random_state)\n",
    "\n",
    "    # 定义 Boosting 回归模型\n",
    "    regression_models = {\n",
    "        \"AdaBoost\": AdaBoostRegressor(n_estimators=num, learning_rate=2.0, loss='linear', random_state=45),\n",
    "        \"GradientBoosting\": GradientBoostingRegressor(loss='squared_error', learning_rate=0.2, n_estimators=num, random_state=random_state),\n",
    "        \"HistGradientBoostingRegressor\": HistGradientBoostingRegressor(random_state=45),\n",
    "        \"XGBoost_boosting\": xgb.XGBRegressor(n_estimators=num),\n",
    "        \"LGBM_boosting\": lgb.LGBMRegressor(random_state=45, n_estimators=num)\n",
    "    }\n",
    "\n",
    "    def evaluate_boosting_model(model, model_name):\n",
    "        y_pred = model.predict(X_train)\n",
    "        y_test_pred = model.predict(X_test)\n",
    "\n",
    "        res = pd.DataFrame()\n",
    "        res['pointID'] = list(X_test.index)\n",
    "        res['真实值'] = list(y_test)\n",
    "        res['预测值'] = y_test_pred\n",
    "        y_test.index = list(range(len(y_test.index)))\n",
    "        loss = [abs(y_test[i] - y_test_pred[i]) for i in range(len(y_test))]\n",
    "        res['差值'] = loss\n",
    "\n",
    "        point = data.loc[:, ['pointID']]\n",
    "        res = pd.merge(res, point)\n",
    "        res.set_index(['pointID'])\n",
    "        os.makedirs(f'{model_save_path}/csv/', exist_ok=True)\n",
    "        res.to_csv(f'{model_save_path}/csv/{model_name}_boosting.csv', index=False, float_format='%.2f', encoding='gbk')\n",
    "\n",
    "        acc_rf = metrics.r2_score(y_test, y_test_pred)\n",
    "        adjr2_rf = 1 - (1 - metrics.r2_score(y_test, y_test_pred)) * (len(y_test) - 1) / (len(y_test) - X_test.shape[1] - 1)\n",
    "        MAE_rf = metrics.mean_absolute_error(y_test, y_test_pred)\n",
    "        MSE_rf = metrics.mean_squared_error(y_test, y_test_pred)\n",
    "        RMSE_rf = np.sqrt(metrics.mean_squared_error(y_test, y_test_pred))\n",
    "        MAE_b = (MAE_rf / np.mean(np.abs(y_test))) * 100\n",
    "        RMSE_b = (RMSE_rf / np.mean(np.abs(y_test))) * 100\n",
    "\n",
    "        # 打印模型评估结果\n",
    "        bf_print(\n",
    "            model_name=model_name,\n",
    "            acc_rf=acc_rf,\n",
    "            adjr2_rf=adjr2_rf,\n",
    "            MAE_rf=MAE_rf,\n",
    "            MSE_rf=MSE_rf,\n",
    "            RMSE_rf=RMSE_rf,\n",
    "            MAE_b=MAE_b,\n",
    "            RMSE_b=RMSE_b\n",
    "        )\n",
    "\n",
    "        models_name.append(f'{model_name}_boosting')\n",
    "        RR.append(acc_rf)\n",
    "        MAE.append(MAE_rf)\n",
    "        MSE.append(MSE_rf)\n",
    "        RMSE.append(RMSE_rf)\n",
    "        MAE_B.append(MAE_b)\n",
    "        RMSE_B.append(RMSE_b)\n",
    "\n",
    "        # 保存模型\n",
    "        os.makedirs(f'{model_save_path}/pkl/', exist_ok=True)\n",
    "        joblib.dump(model, f'{model_save_path}/pkl/{model_name}_boosting.pkl')\n",
    "\n",
    "    for model_name, model in regression_models.items():\n",
    "        print(f\"训练 {model_name} 模型\")\n",
    "        model.fit(X_train, y_train)\n",
    "        evaluate_boosting_model(model, model_name)\n",
    "\n",
    "    # 创建 DataFrame 保存评估结果\n",
    "    df = pd.DataFrame({'模型名称': models_name, 'R^2': RR, 'MAE': MAE, 'MSE': MSE, 'RMSE': RMSE, '%MAE': MAE_B, '%RMSE': RMSE_B})\n",
    "\n",
    "    # 根据 R^2 对模型进行排序\n",
    "    df = df.sort_values(by='R^2', ascending=False)\n",
    "\n",
    "    print(df)\n",
    "    os.makedirs(os.path.dirname(comparison_save_path), exist_ok=True)\n",
    "    df.to_csv(comparison_save_path, index=True, float_format='%.6f', encoding='gbk')\n",
    "    print('boosting提升法集成模型训练完成操作')\n",
    "\n",
    "# 参数设置\n",
    "data_path = \"特征工程处理csv/设施农用地.csv\"\n",
    "model_save_path = \"./model/农用地/Boosting模型/设施农用地\"\n",
    "comparison_save_path = \"./模型评估/农用地/Boosting模型/设施农用地Boosting模型评估.csv\"\n",
    "target = \"Y\"\n",
    "num = 50\n",
    "test_size = 0.2\n",
    "random_state = 45\n",
    "\n",
    "# 调用函数\n",
    "train_and_evaluate_models_boosting(\n",
    "    data_path=data_path,\n",
    "    model_save_path=model_save_path,\n",
    "    comparison_save_path=comparison_save_path,\n",
    "    num=num,\n",
    "    target=target,\n",
    "    test_size=test_size,\n",
    "    random_state=random_state\n",
    ")"
   ]
  },
  {
   "cell_type": "markdown",
   "metadata": {},
   "source": [
    "#### stacking"
   ]
  },
  {
   "cell_type": "code",
   "execution_count": null,
   "metadata": {},
   "outputs": [],
   "source": [
    "import os\n",
    "import joblib\n",
    "import pandas as pd\n",
    "import numpy as np\n",
    "from sklearn.model_selection import train_test_split, KFold\n",
    "from sklearn import metrics\n",
    "from mlxtend.regressor import StackingCVRegressor\n",
    "from sklearn.linear_model import LinearRegression\n",
    "from sklearn.ensemble import ExtraTreesRegressor, RandomForestRegressor\n",
    "import lightgbm as lgb\n",
    "from sklearn.svm import SVR\n",
    "from sklearn.neighbors import KNeighborsRegressor\n",
    "from sklearn.tree import DecisionTreeRegressor\n",
    "from itertools import combinations\n",
    "\n",
    "# 初始化评估指标列表\n",
    "models_name = []\n",
    "RR = []\n",
    "MAE = []\n",
    "MSE = []\n",
    "RMSE = []\n",
    "MAE_B = []\n",
    "RMSE_B = []\n",
    "n_model = []\n",
    "\n",
    "# 加载数据集\n",
    "data_path = './特征工程处理csv/设施农用地.csv'\n",
    "train = pd.read_csv(data_path, encoding='utf-8')\n",
    "\n",
    "# 备份数据\n",
    "data = train.copy()\n",
    "X = train.drop(['Y'], axis=1)\n",
    "y = train['Y']\n",
    "\n",
    "# 数据标准化\n",
    "for column in X.columns:\n",
    "    mean = X[column].mean()\n",
    "    std = X[column].std()\n",
    "    X[column] = (X[column] - mean) / std\n",
    "\n",
    "X.set_index(data['pointID'], inplace=True)\n",
    "y.index = data['pointID']\n",
    "\n",
    "X_train, X_test, y_train, y_test = train_test_split(X, y, test_size=0.2, random_state=30)\n",
    "\n",
    "# 定义元回归模型\n",
    "meta_regressor = LinearRegression()\n",
    "\n",
    "# 定义基础回归模型\n",
    "base_models = [\n",
    "    ExtraTreesRegressor(n_estimators=100, random_state=45),\n",
    "    RandomForestRegressor(n_estimators=200, random_state=45),\n",
    "    lgb.LGBMRegressor(n_estimators=200, random_state=45),\n",
    "    SVR(),\n",
    "    KNeighborsRegressor(),\n",
    "    DecisionTreeRegressor()\n",
    "]\n",
    "\n",
    "# 生成基础模型组合\n",
    "def generate_combinations(models, min_len=2, max_len=None):\n",
    "    if max_len is None:\n",
    "        max_len = len(models)\n",
    "    return [list(combo) for i in range(min_len, max_len + 1) for combo in combinations(models, i)]\n",
    "\n",
    "model_combinations = generate_combinations(base_models, min_len=2, max_len=4)\n",
    "\n",
    "def get_model_name(models):\n",
    "    \"\"\"生成模型名称\"\"\"\n",
    "    model_names = []\n",
    "    if any(isinstance(m, ExtraTreesRegressor) for m in models):\n",
    "        model_names.append('ExtraTrees')\n",
    "    if any(isinstance(m, RandomForestRegressor) for m in models):\n",
    "        model_names.append('RandomForest')\n",
    "    if any(isinstance(m, lgb.LGBMRegressor) for m in models):\n",
    "        model_names.append('LGBM')\n",
    "    if any(isinstance(m, SVR) for m in models):\n",
    "        model_names.append('SVR')\n",
    "    if any(isinstance(m, KNeighborsRegressor) for m in models):\n",
    "        model_names.append('KNN')\n",
    "    if any(isinstance(m, DecisionTreeRegressor) for m in models):\n",
    "        model_names.append('DecisionTree')\n",
    "    return '_'.join(model_names) + '_stacking'\n",
    "\n",
    "# 创建堆叠回归模型\n",
    "cv = KFold(n_splits=10)\n",
    "n_jobs = 1\n",
    "\n",
    "for i, models in enumerate(model_combinations, start=1):\n",
    "    # 创建和训练堆叠回归模型\n",
    "    stacking_reg = StackingCVRegressor(regressors=models, meta_regressor=meta_regressor, cv=cv, verbose=0, random_state=45, n_jobs=n_jobs)\n",
    "    stacking_reg.fit(X_train, y_train)\n",
    "\n",
    "    # 生成模型名称\n",
    "    model_name = get_model_name(models)\n",
    "\n",
    "    # 评估模型\n",
    "    def T_stacking(reg, n, model_name):\n",
    "        y_pred = reg.predict(X_train)\n",
    "        y_test_pred = reg.predict(X_test)\n",
    "\n",
    "        res = pd.DataFrame()\n",
    "        res['pointID'] = list(X_test.index)\n",
    "        res['真实值'] = list(y_test)\n",
    "        res['预测值'] = y_test_pred\n",
    "        y_test.index = list(range(len(y_test.index)))\n",
    "        loss = [abs(y_test[i] - y_test_pred[i]) for i in range(len(y_test))]\n",
    "        res['差值'] = loss\n",
    "\n",
    "        point = data.loc[:, ['pointID']]\n",
    "        res = pd.merge(res, point)\n",
    "        res.set_index(['pointID'])\n",
    "        output_dir = f'./模型评估/农用地/Stacking模型/设施农用地'\n",
    "        os.makedirs(output_dir, exist_ok=True)\n",
    "        res.to_csv(f'{output_dir}/{model_name}_stacking_{n}.csv', index=False, float_format='%.2f', encoding='gbk')\n",
    "\n",
    "        acc_rf = metrics.r2_score(y_test, y_test_pred)\n",
    "        adjr2_rf = 1 - (1 - metrics.r2_score(y_test, y_test_pred)) * (len(y_test) - 1) / (len(y_test) - X_test.shape[1] - 1)\n",
    "        MAE_rf = metrics.mean_absolute_error(y_test, y_test_pred)\n",
    "        MSE_rf = metrics.mean_squared_error(y_test, y_test_pred)\n",
    "        RMSE_rf = np.sqrt(metrics.mean_squared_error(y_test, y_test_pred))\n",
    "        MAE_b = (MAE_rf / np.mean(np.abs(y_test))) * 100\n",
    "        RMSE_b = (RMSE_rf / np.mean(np.abs(y_test))) * 100\n",
    "        print(\"------------------------------------------------\")\n",
    "        print(f'Model {model_name} ({n})')\n",
    "        print('R^2:', acc_rf)\n",
    "        print('Adjusted R^2:', adjr2_rf)\n",
    "        print('MAE:', MAE_rf)\n",
    "        print('MSE:', MSE_rf)\n",
    "        print('RMSE:', RMSE_rf)\n",
    "        print('%MAE:', MAE_b)\n",
    "        print('%RMSE:', RMSE_b)\n",
    "        print(\"------------------------------------------------\")\n",
    "\n",
    "        models_name.append(f'{model_name}_stacking_{n}')\n",
    "        RR.append(acc_rf)\n",
    "        MAE.append(MAE_rf)\n",
    "        MSE.append(MSE_rf)\n",
    "        RMSE.append(RMSE_rf)\n",
    "        MAE_B.append(MAE_b)\n",
    "        RMSE_B.append(RMSE_b)\n",
    "        n_model.append(models)\n",
    "        \n",
    "        # 保存模型\n",
    "        model_path = f'./model/农用地/Stacking模型/设施农用地'\n",
    "        os.makedirs(model_path, exist_ok=True)\n",
    "        joblib.dump(reg, f'{model_path}/{model_name}_stacking_{n}.pkl')\n",
    "\n",
    "    # 调用评估函数\n",
    "    T_stacking(stacking_reg, i, model_name)\n",
    "\n",
    "# 创建 DataFrame 保存评估结果\n",
    "df = pd.DataFrame({'模型名称': models_name, 'R^2': RR, 'MAE': MAE, 'MSE': MSE, 'RMSE': RMSE, '%MAE': MAE_B, '%RMSE': RMSE_B, 'n_model': n_model})\n",
    "\n",
    "# 根据 R^2 对模型进行排序\n",
    "df = df.sort_values(by='R^2', ascending=False)\n",
    "\n",
    "print(df)\n",
    "comparison_save_path = './模型评估/农用地/Stacking模型/设施农用地Stacking模型对比.csv'\n",
    "os.makedirs(os.path.dirname(comparison_save_path), exist_ok=True)\n",
    "df.to_csv(comparison_save_path, index=True, float_format='%.6f', encoding='utf-8')\n",
    "print('完成操作')\n"
   ]
  },
  {
   "cell_type": "markdown",
   "metadata": {},
   "source": [
    "#### bagging"
   ]
  },
  {
   "cell_type": "code",
   "execution_count": null,
   "metadata": {},
   "outputs": [],
   "source": [
    "import os\n",
    "import joblib\n",
    "import pandas as pd\n",
    "import numpy as np\n",
    "from sklearn.model_selection import train_test_split\n",
    "from sklearn.ensemble import BaggingRegressor\n",
    "from sklearn import metrics\n",
    "from sklearn.linear_model import (LinearRegression, Ridge, Lasso, ElasticNet, BayesianRidge, LassoLars, \n",
    "                                  PassiveAggressiveRegressor, TheilSenRegressor, HuberRegressor, \n",
    "                                  OrthogonalMatchingPursuit, TweedieRegressor, PoissonRegressor, \n",
    "                                  GammaRegressor)\n",
    "from sklearn.tree import DecisionTreeRegressor, ExtraTreeRegressor\n",
    "from sklearn.svm import LinearSVR, SVR, NuSVR\n",
    "from sklearn.neighbors import KNeighborsRegressor\n",
    "from sklearn.gaussian_process import GaussianProcessRegressor\n",
    "from sklearn.ensemble import (RandomForestRegressor, ExtraTreesRegressor, GradientBoostingRegressor, \n",
    "                              AdaBoostRegressor, HistGradientBoostingRegressor)\n",
    "import lightgbm as lgb\n",
    "from xgboost import XGBRegressor\n",
    "\n",
    "def train_and_evaluate_models_bagging(data_path, model_save_path, comparison_save_path, target, test_size=0.2, random_state=30, n_estimators=50):\n",
    "    # 初始化评估指标列表\n",
    "    models_name = []\n",
    "    RR = []\n",
    "    MAE = []\n",
    "    MSE = []\n",
    "    RMSE = []\n",
    "    MAE_B = []\n",
    "    RMSE_B = []\n",
    "\n",
    "    # 加载数据集\n",
    "    data = pd.read_csv(data_path, encoding=\"utf-8\")  # 尝试以utf-8编码加载\n",
    "    X = data.drop([target], axis=1)\n",
    "    y = data[target]\n",
    "\n",
    "    # 检查标准差\n",
    "    std_devs = X.std()\n",
    "\n",
    "    # 处理标准差为0的列\n",
    "    nonzero_std_columns = std_devs[std_devs != 0].index\n",
    "\n",
    "    # 只对标准差不为0的列进行标准化\n",
    "    X = X[nonzero_std_columns]\n",
    "    for column in nonzero_std_columns:\n",
    "        mean = X[column].mean()\n",
    "        std = X[column].std()\n",
    "        X[column] = (X[column] - mean) / std\n",
    "\n",
    "    # 设置索引\n",
    "    X.set_index(data['pointID'], inplace=True)\n",
    "    y.index = data['pointID']\n",
    "\n",
    "    # 切分数据\n",
    "    X_train, X_test, y_train, y_test = train_test_split(X, y, test_size=test_size, random_state=random_state)\n",
    "\n",
    "    # 初始化回归模型字典\n",
    "    regression_models = {\n",
    "        \"LinearRegression\": LinearRegression(),\n",
    "        \"Ridge\": Ridge(random_state=random_state),\n",
    "        \"Lasso\": Lasso(random_state=random_state),\n",
    "        \"ElasticNet\": ElasticNet(random_state=random_state),\n",
    "        \"BayesianRidge\": BayesianRidge(),\n",
    "        \"LassoLars\": LassoLars(random_state=random_state),\n",
    "        \"PassiveAggressiveRegressor\": PassiveAggressiveRegressor(random_state=random_state),\n",
    "        \"TheilSenRegressor\": TheilSenRegressor(random_state=random_state),\n",
    "        \"HuberRegressor\": HuberRegressor(),\n",
    "        \"OrthogonalMatchingPursuit\": OrthogonalMatchingPursuit(),\n",
    "        \"TweedieRegressor\": TweedieRegressor(),\n",
    "        \"PoissonRegressor\": PoissonRegressor(),\n",
    "        \"GammaRegressor\": GammaRegressor(),\n",
    "        \"RandomForestRegressor\": RandomForestRegressor(random_state=random_state),\n",
    "        \"ExtraTreesRegressor\": ExtraTreesRegressor(random_state=random_state),\n",
    "        \"GradientBoostingRegressor\": GradientBoostingRegressor(random_state=random_state),\n",
    "        \"XGBRegressor\": XGBRegressor(),\n",
    "        \"lgb.LGBMRegressor\": lgb.LGBMRegressor(random_state=random_state),\n",
    "        \"AdaBoostRegressor\": AdaBoostRegressor(random_state=random_state),\n",
    "        \"HistGradientBoostingRegressor\": HistGradientBoostingRegressor(random_state=random_state),\n",
    "        \"LinearSVR\": LinearSVR(random_state=random_state),\n",
    "        \"SVR\": SVR(),\n",
    "        \"NuSVR\": NuSVR(),\n",
    "        \"DecisionTreeRegressor\": DecisionTreeRegressor(random_state=random_state),\n",
    "        \"ExtraTreeRegressor\": ExtraTreeRegressor(random_state=random_state),\n",
    "        \"KNeighborsRegressor\": KNeighborsRegressor(),\n",
    "        \"GaussianProcessRegressor\": GaussianProcessRegressor(random_state=random_state)\n",
    "    }\n",
    "\n",
    "    # 创建模型保存路径目录\n",
    "    os.makedirs(model_save_path, exist_ok=True)\n",
    "    os.makedirs(os.path.dirname(comparison_save_path), exist_ok=True)\n",
    "    \n",
    "    # 创建 Bagging 模型并评估\n",
    "    def evaluate_bagging_model(model, model_name):\n",
    "        y_pred = model.predict(X_train)\n",
    "        y_test_pred = model.predict(X_test)\n",
    "\n",
    "        res = pd.DataFrame()\n",
    "        res['pointID'] = list(X_test.index)\n",
    "        res['真实值'] = list(y_test)\n",
    "        res['预测值'] = y_test_pred\n",
    "        y_test.index = list(range(len(y_test.index)))\n",
    "        loss = [abs(y_test[i] - y_test_pred[i]) for i in range(len(y_test))]\n",
    "        res['差值'] = loss\n",
    "\n",
    "        point = data.loc[:, ['pointID']]\n",
    "        res = pd.merge(res, point)\n",
    "        res.set_index(['pointID'])\n",
    "        os.makedirs(f'{model_save_path}/csv/', exist_ok=True)\n",
    "        res.to_csv(f'{model_save_path}/csv/{model_name}_bagging.csv', index=False, float_format='%.2f', encoding='gbk')\n",
    "\n",
    "        acc_rf = metrics.r2_score(y_test, y_test_pred)\n",
    "        adjr2_rf = 1 - (1 - metrics.r2_score(y_test, y_test_pred)) * (len(y_test) - 1) / (len(y_test) - X_test.shape[1] - 1)\n",
    "        MAE_rf = metrics.mean_absolute_error(y_test, y_test_pred)\n",
    "        MSE_rf = metrics.mean_squared_error(y_test, y_test_pred)\n",
    "        RMSE_rf = np.sqrt(metrics.mean_squared_error(y_test, y_test_pred))\n",
    "        MAE_b = (MAE_rf / np.mean(np.abs(y_test))) * 100\n",
    "        RMSE_b = (RMSE_rf / np.mean(np.abs(y_test))) * 100\n",
    "\n",
    "        # 打印模型评估结果\n",
    "        print(\n",
    "            f\"模型名称: {model_name}\\n\"\n",
    "            f\"R^2: {acc_rf:.4f}\\n\"\n",
    "            f\"调整后的 R^2: {adjr2_rf:.4f}\\n\"\n",
    "            f\"MAE: {MAE_rf:.4f}\\n\"\n",
    "            f\"MSE: {MSE_rf:.4f}\\n\"\n",
    "            f\"RMSE: {RMSE_rf:.4f}\\n\"\n",
    "            f\"百分比 MAE: {MAE_b:.2f}%\\n\"\n",
    "            f\"百分比 RMSE: {RMSE_b:.2f}%\\n\",\n",
    "            flush=True\n",
    "        )\n",
    "        \n",
    "        models_name.append(f'{model_name}_bagging')\n",
    "        RR.append(acc_rf)\n",
    "        MAE.append(MAE_rf)\n",
    "        MSE.append(MSE_rf)\n",
    "        RMSE.append(RMSE_rf)\n",
    "        MAE_B.append(MAE_b)\n",
    "        RMSE_B.append(RMSE_b)\n",
    "\n",
    "        # 保存模型\n",
    "        os.makedirs(f'{model_save_path}/pkl/', exist_ok=True)\n",
    "        joblib.dump(model, f'{model_save_path}/pkl/{model_name}_bagging.pkl')\n",
    "\n",
    "    for model_name, model in regression_models.items():\n",
    "        print(f\"训练 Bagging 模型: {model_name}\", flush=True)\n",
    "        print(\"----------------------------------------------------------------\", flush=True)\n",
    "        bagging_model = BaggingRegressor(estimator=model, n_estimators=n_estimators, random_state=random_state, n_jobs=1)\n",
    "        bagging_model.fit(X_train, y_train)\n",
    "        evaluate_bagging_model(bagging_model, model_name)\n",
    "        \n",
    "    # 创建 DataFrame 保存评估结果\n",
    "    df = pd.DataFrame({'模型名称': models_name, 'R^2': RR, 'MAE': MAE, 'MSE': MSE, 'RMSE': RMSE, '%MAE': MAE_B, '%RMSE': RMSE_B})\n",
    "\n",
    "    # 根据 R^2 对模型进行排序\n",
    "    df = df.sort_values(by='R^2', ascending=False)\n",
    "\n",
    "    # 确保保存路径存在\n",
    "    os.makedirs(os.path.dirname(comparison_save_path), exist_ok=True)\n",
    "    print(df, flush=True)\n",
    "    # 保存评估结果到指定路径的 CSV 文件\n",
    "    df.to_csv(comparison_save_path, index=True, float_format='%.6f', encoding='gbk')\n",
    "    print('Bagging袋装法集成模型训练完成操作', flush=True)\n",
    "\n",
    "# 参数设置\n",
    "data_path = \"特征工程处理csv/坑塘水面.csv\"\n",
    "model_save_path = \"./model/农用地/Bagging模型/坑塘水面\"\n",
    "comparison_save_path = \"./模型评估/农用地/Bagging模型/坑塘水面Bagging模型评估.csv\"\n",
    "target = \"Y\"\n",
    "n_estimators = 50\n",
    "test_size = 0.2\n",
    "random_state = 45\n",
    "\n",
    "# 调用函数\n",
    "train_and_evaluate_models_bagging(\n",
    "    data_path=data_path,\n",
    "    model_save_path=model_save_path,\n",
    "    comparison_save_path=comparison_save_path,\n",
    "    target=target,\n",
    "    test_size=test_size,\n",
    "    random_state=random_state,\n",
    "    n_estimators=n_estimators\n",
    ")"
   ]
  }
 ],
 "metadata": {
  "kernelspec": {
   "display_name": "arcgispro-py3",
   "language": "python",
   "name": "python3"
  },
  "language_info": {
   "codemirror_mode": {
    "name": "ipython",
    "version": 3
   },
   "file_extension": ".py",
   "mimetype": "text/x-python",
   "name": "python",
   "nbconvert_exporter": "python",
   "pygments_lexer": "ipython3",
   "version": "3.9.11"
  }
 },
 "nbformat": 4,
 "nbformat_minor": 2
}
